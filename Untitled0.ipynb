{
  "nbformat": 4,
  "nbformat_minor": 0,
  "metadata": {
    "colab": {
      "provenance": [],
      "include_colab_link": true
    },
    "kernelspec": {
      "name": "python3",
      "display_name": "Python 3"
    },
    "language_info": {
      "name": "python"
    },
    "gpuClass": "standard"
  },
  "cells": [
    {
      "cell_type": "markdown",
      "metadata": {
        "id": "view-in-github",
        "colab_type": "text"
      },
      "source": [
        "<a href=\"https://colab.research.google.com/github/MukundIyer21/Multilingual-spam-classfier/blob/main/Untitled0.ipynb\" target=\"_parent\"><img src=\"https://colab.research.google.com/assets/colab-badge.svg\" alt=\"Open In Colab\"/></a>"
      ]
    },
    {
      "cell_type": "code",
      "execution_count": null,
      "metadata": {
        "id": "dbRfChZSD3or",
        "colab": {
          "base_uri": "https://localhost:8080/"
        },
        "outputId": "bc1cc0d7-2b17-4047-af4e-034dfc9bfe23"
      },
      "outputs": [
        {
          "output_type": "stream",
          "name": "stderr",
          "text": [
            "[nltk_data] Downloading package punkt to /root/nltk_data...\n",
            "[nltk_data]   Unzipping tokenizers/punkt.zip.\n",
            "[nltk_data] Downloading package stopwords to /root/nltk_data...\n",
            "[nltk_data]   Unzipping corpora/stopwords.zip.\n",
            "[nltk_data] Downloading package wordnet to /root/nltk_data...\n"
          ]
        }
      ],
      "source": [
        "import tensorflow as tf\n",
        "from tensorflow.keras.layers import Dense, Dropout\n",
        "from tensorflow.keras.models import Sequential\n",
        "from tensorflow.keras.preprocessing.text import Tokenizer\n",
        "from tensorflow.keras.preprocessing.sequence import pad_sequences\n",
        "import os\n",
        "import nltk\n",
        "import numpy as np\n",
        "nltk.download('punkt')\n",
        "nltk.download('stopwords')\n",
        "nltk.download('wordnet')\n",
        "from nltk.stem import SnowballStemmer\n"
      ]
    },
    {
      "cell_type": "code",
      "source": [
        "import nltk\n",
        "from nltk.corpus import stopwords\n",
        "from nltk.stem import WordNetLemmatizer\n",
        "from nltk.tokenize import word_tokenize\n",
        "import string\n",
        "def preprocess_text_en(texts):\n",
        "    t=[]\n",
        "    for text in texts:\n",
        "      words = word_tokenize(text.lower())\n",
        "      stop_words = set(stopwords.words('english'))\n",
        "      words = [word for word in words if word not in stop_words]\n",
        "      words = [word.translate(str.maketrans(\"\", \"\", string.punctuation)) for word in words]\n",
        "      lemmatizer = WordNetLemmatizer()\n",
        "      words = [lemmatizer.lemmatize(word) for word in words]\n",
        "      processed_text = \" \".join(words)\n",
        "      t.append(processed_text)\n",
        "    return t\n",
        "def preprocess_text_hi(texts):\n",
        "    t=[]\n",
        "    for text in texts:\n",
        "      words = word_tokenize(text)\n",
        "      stop_words = stop_words = ['अंदर', 'अतः', 'अपना', 'अपने', 'अभी', 'आदि', 'इनका', 'इन्हीं', 'इन्हें', 'इन्हों', 'इसका', 'इसकी', 'इसके', 'इसमें', 'इसी', 'इसे', 'उनका', 'उनकी', 'उनके', 'उन्हीं', 'उन्हें', 'उन्हों', 'उसके', 'उसी', 'उसे', 'एक', 'एवं', 'ऐसे', 'और', 'करता', 'करते', 'करना', 'करने', 'करें', 'कहते', 'कहा', 'का', 'काफी', 'कि', 'किसी', 'कुछ', 'कुल', 'के', 'को', 'कोई', 'जब', 'जहाँ', 'जा', 'जिस', 'जिसे', 'तक', 'तब', 'तरह', 'तिस', 'तिसे', 'था', 'थी', 'थे', 'दबारा', 'द्वारा', 'नहीं', 'ना', 'ने', 'पर', 'पहले', 'पूरा', 'पे', 'फिर', 'भी', 'मगर', 'मे', 'में', 'यदि', 'या', 'यह', 'यहाँ', 'यहीं', 'या।', 'रहा', 'रहे', 'रही', 'वह', 'वहाँ', 'वहीं', 'वाले', 'सबसे', 'सभी', 'साथ', 'से', 'सो', 'ही', 'हुआ', 'हुई', 'हुए', 'हो', 'होता', 'होती', 'होते', 'होना', 'होने']\n",
        "      words = [word for word in words if word not in stop_words]\n",
        "      processed_text = \" \".join(words)\n",
        "      t.append(processed_text)\n",
        "    return t"
      ],
      "metadata": {
        "id": "0TZvUZibOYKz"
      },
      "execution_count": null,
      "outputs": []
    },
    {
      "cell_type": "code",
      "source": [
        "from google.colab import files\n",
        "uploaded  = files.upload()"
      ],
      "metadata": {
        "id": "vzRKQg3AEmsP",
        "colab": {
          "base_uri": "https://localhost:8080/",
          "height": 73
        },
        "outputId": "2563be99-31fb-4074-ebf7-0d10d9d8a44e"
      },
      "execution_count": null,
      "outputs": [
        {
          "output_type": "display_data",
          "data": {
            "text/plain": [
              "<IPython.core.display.HTML object>"
            ],
            "text/html": [
              "\n",
              "     <input type=\"file\" id=\"files-cdf21d7d-5f94-411f-8860-03757951cfc0\" name=\"files[]\" multiple disabled\n",
              "        style=\"border:none\" />\n",
              "     <output id=\"result-cdf21d7d-5f94-411f-8860-03757951cfc0\">\n",
              "      Upload widget is only available when the cell has been executed in the\n",
              "      current browser session. Please rerun this cell to enable.\n",
              "      </output>\n",
              "      <script>// Copyright 2017 Google LLC\n",
              "//\n",
              "// Licensed under the Apache License, Version 2.0 (the \"License\");\n",
              "// you may not use this file except in compliance with the License.\n",
              "// You may obtain a copy of the License at\n",
              "//\n",
              "//      http://www.apache.org/licenses/LICENSE-2.0\n",
              "//\n",
              "// Unless required by applicable law or agreed to in writing, software\n",
              "// distributed under the License is distributed on an \"AS IS\" BASIS,\n",
              "// WITHOUT WARRANTIES OR CONDITIONS OF ANY KIND, either express or implied.\n",
              "// See the License for the specific language governing permissions and\n",
              "// limitations under the License.\n",
              "\n",
              "/**\n",
              " * @fileoverview Helpers for google.colab Python module.\n",
              " */\n",
              "(function(scope) {\n",
              "function span(text, styleAttributes = {}) {\n",
              "  const element = document.createElement('span');\n",
              "  element.textContent = text;\n",
              "  for (const key of Object.keys(styleAttributes)) {\n",
              "    element.style[key] = styleAttributes[key];\n",
              "  }\n",
              "  return element;\n",
              "}\n",
              "\n",
              "// Max number of bytes which will be uploaded at a time.\n",
              "const MAX_PAYLOAD_SIZE = 100 * 1024;\n",
              "\n",
              "function _uploadFiles(inputId, outputId) {\n",
              "  const steps = uploadFilesStep(inputId, outputId);\n",
              "  const outputElement = document.getElementById(outputId);\n",
              "  // Cache steps on the outputElement to make it available for the next call\n",
              "  // to uploadFilesContinue from Python.\n",
              "  outputElement.steps = steps;\n",
              "\n",
              "  return _uploadFilesContinue(outputId);\n",
              "}\n",
              "\n",
              "// This is roughly an async generator (not supported in the browser yet),\n",
              "// where there are multiple asynchronous steps and the Python side is going\n",
              "// to poll for completion of each step.\n",
              "// This uses a Promise to block the python side on completion of each step,\n",
              "// then passes the result of the previous step as the input to the next step.\n",
              "function _uploadFilesContinue(outputId) {\n",
              "  const outputElement = document.getElementById(outputId);\n",
              "  const steps = outputElement.steps;\n",
              "\n",
              "  const next = steps.next(outputElement.lastPromiseValue);\n",
              "  return Promise.resolve(next.value.promise).then((value) => {\n",
              "    // Cache the last promise value to make it available to the next\n",
              "    // step of the generator.\n",
              "    outputElement.lastPromiseValue = value;\n",
              "    return next.value.response;\n",
              "  });\n",
              "}\n",
              "\n",
              "/**\n",
              " * Generator function which is called between each async step of the upload\n",
              " * process.\n",
              " * @param {string} inputId Element ID of the input file picker element.\n",
              " * @param {string} outputId Element ID of the output display.\n",
              " * @return {!Iterable<!Object>} Iterable of next steps.\n",
              " */\n",
              "function* uploadFilesStep(inputId, outputId) {\n",
              "  const inputElement = document.getElementById(inputId);\n",
              "  inputElement.disabled = false;\n",
              "\n",
              "  const outputElement = document.getElementById(outputId);\n",
              "  outputElement.innerHTML = '';\n",
              "\n",
              "  const pickedPromise = new Promise((resolve) => {\n",
              "    inputElement.addEventListener('change', (e) => {\n",
              "      resolve(e.target.files);\n",
              "    });\n",
              "  });\n",
              "\n",
              "  const cancel = document.createElement('button');\n",
              "  inputElement.parentElement.appendChild(cancel);\n",
              "  cancel.textContent = 'Cancel upload';\n",
              "  const cancelPromise = new Promise((resolve) => {\n",
              "    cancel.onclick = () => {\n",
              "      resolve(null);\n",
              "    };\n",
              "  });\n",
              "\n",
              "  // Wait for the user to pick the files.\n",
              "  const files = yield {\n",
              "    promise: Promise.race([pickedPromise, cancelPromise]),\n",
              "    response: {\n",
              "      action: 'starting',\n",
              "    }\n",
              "  };\n",
              "\n",
              "  cancel.remove();\n",
              "\n",
              "  // Disable the input element since further picks are not allowed.\n",
              "  inputElement.disabled = true;\n",
              "\n",
              "  if (!files) {\n",
              "    return {\n",
              "      response: {\n",
              "        action: 'complete',\n",
              "      }\n",
              "    };\n",
              "  }\n",
              "\n",
              "  for (const file of files) {\n",
              "    const li = document.createElement('li');\n",
              "    li.append(span(file.name, {fontWeight: 'bold'}));\n",
              "    li.append(span(\n",
              "        `(${file.type || 'n/a'}) - ${file.size} bytes, ` +\n",
              "        `last modified: ${\n",
              "            file.lastModifiedDate ? file.lastModifiedDate.toLocaleDateString() :\n",
              "                                    'n/a'} - `));\n",
              "    const percent = span('0% done');\n",
              "    li.appendChild(percent);\n",
              "\n",
              "    outputElement.appendChild(li);\n",
              "\n",
              "    const fileDataPromise = new Promise((resolve) => {\n",
              "      const reader = new FileReader();\n",
              "      reader.onload = (e) => {\n",
              "        resolve(e.target.result);\n",
              "      };\n",
              "      reader.readAsArrayBuffer(file);\n",
              "    });\n",
              "    // Wait for the data to be ready.\n",
              "    let fileData = yield {\n",
              "      promise: fileDataPromise,\n",
              "      response: {\n",
              "        action: 'continue',\n",
              "      }\n",
              "    };\n",
              "\n",
              "    // Use a chunked sending to avoid message size limits. See b/62115660.\n",
              "    let position = 0;\n",
              "    do {\n",
              "      const length = Math.min(fileData.byteLength - position, MAX_PAYLOAD_SIZE);\n",
              "      const chunk = new Uint8Array(fileData, position, length);\n",
              "      position += length;\n",
              "\n",
              "      const base64 = btoa(String.fromCharCode.apply(null, chunk));\n",
              "      yield {\n",
              "        response: {\n",
              "          action: 'append',\n",
              "          file: file.name,\n",
              "          data: base64,\n",
              "        },\n",
              "      };\n",
              "\n",
              "      let percentDone = fileData.byteLength === 0 ?\n",
              "          100 :\n",
              "          Math.round((position / fileData.byteLength) * 100);\n",
              "      percent.textContent = `${percentDone}% done`;\n",
              "\n",
              "    } while (position < fileData.byteLength);\n",
              "  }\n",
              "\n",
              "  // All done.\n",
              "  yield {\n",
              "    response: {\n",
              "      action: 'complete',\n",
              "    }\n",
              "  };\n",
              "}\n",
              "\n",
              "scope.google = scope.google || {};\n",
              "scope.google.colab = scope.google.colab || {};\n",
              "scope.google.colab._files = {\n",
              "  _uploadFiles,\n",
              "  _uploadFilesContinue,\n",
              "};\n",
              "})(self);\n",
              "</script> "
            ]
          },
          "metadata": {}
        },
        {
          "output_type": "stream",
          "name": "stdout",
          "text": [
            "Saving data.csv to data.csv\n"
          ]
        }
      ]
    },
    {
      "cell_type": "code",
      "source": [
        "import pandas as pd\n",
        "all_data=pd.read_csv('data.csv',usecols=['labels','text','text_hi'])\n",
        "all_data.dropna(inplace=True)\n",
        "all_data.drop_duplicates(inplace=True)"
      ],
      "metadata": {
        "id": "P8QWQPb6doko"
      },
      "execution_count": null,
      "outputs": []
    },
    {
      "cell_type": "code",
      "source": [
        "nltk.download('punkt')"
      ],
      "metadata": {
        "colab": {
          "base_uri": "https://localhost:8080/"
        },
        "id": "3v44mewceMA_",
        "outputId": "72990450-13fb-4e66-ee15-4d3fa612f37e"
      },
      "execution_count": null,
      "outputs": [
        {
          "output_type": "stream",
          "name": "stderr",
          "text": [
            "[nltk_data] Downloading package punkt to /root/nltk_data...\n",
            "[nltk_data]   Package punkt is already up-to-date!\n"
          ]
        },
        {
          "output_type": "execute_result",
          "data": {
            "text/plain": [
              "True"
            ]
          },
          "metadata": {},
          "execution_count": 7
        }
      ]
    },
    {
      "cell_type": "code",
      "source": [
        "def get_dataset_partitions_pd(df, train_split=0.8, val_split=0.1, test_split=0.1):\n",
        "    assert (train_split + test_split + val_split) == 1\n",
        "    assert val_split == test_split \n",
        "    df_sample = df.sample(frac=1, random_state=12)\n",
        "    indices_or_sections = [int(train_split * len(df)), int((1 - val_split - test_split) * len(df))]\n",
        "    \n",
        "    train_ds, val_ds, test_ds = np.split(df_sample, indices_or_sections)\n",
        "    \n",
        "    return train_ds, val_ds, test_ds"
      ],
      "metadata": {
        "id": "Tc3BZrBmdQZX"
      },
      "execution_count": null,
      "outputs": []
    },
    {
      "cell_type": "code",
      "source": [
        "train_set,val_set,test_set=get_dataset_partitions_pd(all_data)\n",
        "test_features=preprocess_text_en(test_set.copy().pop('text'))+preprocess_text_hi(test_set.copy().pop('text_hi'))\n",
        "test_labels=2*list(test_set.copy().pop('labels'))\n",
        "train_features=preprocess_text_en(train_set.copy().pop('text'))+preprocess_text_hi(train_set.copy().pop('text_hi'))\n",
        "train_labels=2*list(train_set.copy().pop('labels'))\n",
        "train_labels = [1 if item=='spam' else 0 for item in train_labels]\n",
        "train_features=np.array(train_features)\n",
        "train_labels=np.array(train_labels)\n",
        "test_labels = [1 if item=='spam' else 0 for item in test_labels]\n",
        "test_features=np.array(test_features)\n",
        "test_labels=np.array(test_labels)\n"
      ],
      "metadata": {
        "id": "-5sqg-HHdZuY"
      },
      "execution_count": null,
      "outputs": []
    },
    {
      "cell_type": "code",
      "source": [
        "max_len=10\n",
        "max_words = 10000 \n",
        "batch_size=64"
      ],
      "metadata": {
        "id": "J6MKTMtucnoB"
      },
      "execution_count": null,
      "outputs": []
    },
    {
      "cell_type": "code",
      "source": [
        "tokenizer = Tokenizer()\n",
        "tokenizer.fit_on_texts(train_features)\n",
        "    \n",
        "sequences = tokenizer.texts_to_sequences(train_features)\n",
        "tokenizer.fit_on_texts(train_features)\n",
        "tokenizer.fit_on_texts(test_features)\n",
        "sequences = tokenizer.texts_to_sequences(train_features)\n",
        "test_sequences=tokenizer.texts_to_sequences(test_features)"
      ],
      "metadata": {
        "id": "z9eKD_e6f_Hx"
      },
      "execution_count": null,
      "outputs": []
    },
    {
      "cell_type": "code",
      "source": [
        "train_features=pad_sequences(sequences,max_len)\n",
        "test_features=pad_sequences(test_sequences,max_len)"
      ],
      "metadata": {
        "id": "fAfGPmMefJhw"
      },
      "execution_count": null,
      "outputs": []
    },
    {
      "cell_type": "code",
      "source": [
        "model = tf.keras.Sequential([\n",
        "    tf.keras.layers.Embedding(20000,64),\n",
        "    tf.keras.layers.LSTM(32),\n",
        "    tf.keras.layers.Dense(1, activation='sigmoid'),\n",
        "])"
      ],
      "metadata": {
        "id": "VlhNXjOuglLK"
      },
      "execution_count": null,
      "outputs": []
    },
    {
      "cell_type": "code",
      "source": [
        "model.summary()"
      ],
      "metadata": {
        "colab": {
          "base_uri": "https://localhost:8080/"
        },
        "id": "bQmHRcUghAuN",
        "outputId": "0726c306-4889-4f25-eed0-9c1f4474be3d"
      },
      "execution_count": null,
      "outputs": [
        {
          "output_type": "stream",
          "name": "stdout",
          "text": [
            "Model: \"sequential_15\"\n",
            "_________________________________________________________________\n",
            " Layer (type)                Output Shape              Param #   \n",
            "=================================================================\n",
            " embedding_19 (Embedding)    (None, None, 64)          1280000   \n",
            "                                                                 \n",
            " lstm_15 (LSTM)              (None, 32)                12416     \n",
            "                                                                 \n",
            " dense_18 (Dense)            (None, 1)                 33        \n",
            "                                                                 \n",
            "=================================================================\n",
            "Total params: 1,292,449\n",
            "Trainable params: 1,292,449\n",
            "Non-trainable params: 0\n",
            "_________________________________________________________________\n"
          ]
        }
      ]
    },
    {
      "cell_type": "code",
      "source": [
        "model.compile(loss=\"binary_crossentropy\",optimizer=\"adam\",metrics=['acc'])\n",
        "history = model.fit(x=train_features,y=train_labels,epochs=10,batch_size=batch_size)"
      ],
      "metadata": {
        "colab": {
          "base_uri": "https://localhost:8080/"
        },
        "id": "iXGb1kDqhJeZ",
        "outputId": "34e395ca-e6b7-4f02-cc8e-493e9e2adc38"
      },
      "execution_count": null,
      "outputs": [
        {
          "output_type": "stream",
          "name": "stdout",
          "text": [
            "Epoch 1/10\n",
            "129/129 [==============================] - 5s 21ms/step - loss: 0.2692 - acc: 0.9102\n",
            "Epoch 2/10\n",
            "129/129 [==============================] - 2s 16ms/step - loss: 0.0719 - acc: 0.9818\n",
            "Epoch 3/10\n",
            "129/129 [==============================] - 2s 15ms/step - loss: 0.0306 - acc: 0.9930\n",
            "Epoch 4/10\n",
            "129/129 [==============================] - 2s 15ms/step - loss: 0.0136 - acc: 0.9970\n",
            "Epoch 5/10\n",
            "129/129 [==============================] - 2s 16ms/step - loss: 0.0077 - acc: 0.9984\n",
            "Epoch 6/10\n",
            "129/129 [==============================] - 2s 18ms/step - loss: 0.0058 - acc: 0.9988\n",
            "Epoch 7/10\n",
            "129/129 [==============================] - 2s 17ms/step - loss: 0.0041 - acc: 0.9988\n",
            "Epoch 8/10\n",
            "129/129 [==============================] - 2s 16ms/step - loss: 0.0029 - acc: 0.9992\n",
            "Epoch 9/10\n",
            "129/129 [==============================] - 2s 16ms/step - loss: 0.0021 - acc: 0.9995\n",
            "Epoch 10/10\n",
            "129/129 [==============================] - 2s 16ms/step - loss: 0.0015 - acc: 0.9995\n"
          ]
        }
      ]
    },
    {
      "cell_type": "code",
      "source": [
        "results = model.predict(test_features)"
      ],
      "metadata": {
        "colab": {
          "base_uri": "https://localhost:8080/"
        },
        "id": "iZAsz6-Fg0Qz",
        "outputId": "8fd051d8-8ada-47ef-fd9f-c5fecab6296f"
      },
      "execution_count": null,
      "outputs": [
        {
          "output_type": "stream",
          "name": "stdout",
          "text": [
            "65/65 [==============================] - 0s 2ms/step\n"
          ]
        }
      ]
    },
    {
      "cell_type": "code",
      "source": [
        "output=[]\n",
        "c=0\n",
        "expected_output=test_labels\n",
        "for i in results:\n",
        "  if i[0]>0.5:\n",
        "    output.append(1)\n",
        "  else:\n",
        "    output.append(0)\n",
        "for i in range(len(test_labels)):\n",
        "  if test_labels[i]==output[i]:\n",
        "    c+=1\n",
        "print(\"the model accuracy is :\",c/len(output)*100)"
      ],
      "metadata": {
        "colab": {
          "base_uri": "https://localhost:8080/"
        },
        "id": "xbJ_oI-Cisq4",
        "outputId": "cb75ec0c-b088-4bf3-c1d4-0fc95943f90b"
      },
      "execution_count": null,
      "outputs": [
        {
          "output_type": "stream",
          "name": "stdout",
          "text": [
            "the model accuracy is : 96.60852713178295\n"
          ]
        }
      ]
    }
  ]
}